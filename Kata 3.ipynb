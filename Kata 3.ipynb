{
 "cells": [
  {
   "cell_type": "markdown",
   "metadata": {},
   "source": [
    "Expresiones de prueba pt1"
   ]
  },
  {
   "cell_type": "code",
   "execution_count": 12,
   "metadata": {},
   "outputs": [],
   "source": [
    "a = 97\n",
    "b = 55\n",
    "if a < b:\n",
    "    print(b)"
   ]
  },
  {
   "cell_type": "markdown",
   "metadata": {},
   "source": [
    "Expresiones de prueba pt2 "
   ]
  },
  {
   "cell_type": "code",
   "execution_count": 11,
   "metadata": {},
   "outputs": [
    {
     "name": "stdout",
     "output_type": "stream",
     "text": [
      "93\n"
     ]
    }
   ],
   "source": [
    "# Aplica el tip de práctica 1.\n",
    "a = 93\n",
    "b = 27\n",
    "if a >= b:\n",
    "    print(a)"
   ]
  },
  {
   "cell_type": "markdown",
   "metadata": {},
   "source": [
    "Ejercicio - Escribir declaraciones if, else y elif"
   ]
  },
  {
   "cell_type": "code",
   "execution_count": 18,
   "metadata": {},
   "outputs": [
    {
     "name": "stdout",
     "output_type": "stream",
     "text": [
      "¡Emergencia se acerca un esteroide a la tierra!\n"
     ]
    }
   ],
   "source": [
    "astevelo = 49\n",
    "otravelo = 25 \n",
    "\n",
    "if astevelo > otravelo: \n",
    "    print(\"¡Emergencia se acerca un esteroide a la tierra!\")\n",
    "else: \n",
    "    print(\"Estado: normal\")\n",
    "\n"
   ]
  },
  {
   "cell_type": "code",
   "execution_count": 19,
   "metadata": {},
   "outputs": [
    {
     "name": "stdout",
     "output_type": "stream",
     "text": [
      "Favor de mirar al cielo, hay un asteroide pasando en la tierra\n"
     ]
    }
   ],
   "source": [
    "veloLimite = 20 \n",
    "aste_uno = 30 \n",
    "aste_dos = 20 \n",
    "aste_tres = 19 \n",
    "if aste_uno >= veloLimite:\n",
    "    print(\"Favor de mirar al cielo, hay un asteroide pasando en la tierra\") \n",
    "elif aste_dos == veloLimite:\n",
    "    print(\"Favor de mirar al cielo, hay un asteroide pasando en la tierra\")\n",
    "else:\n",
    "    print(\"Estado: normal\")"
   ]
  },
  {
   "cell_type": "markdown",
   "metadata": {},
   "source": [
    "Uso de Operadores and y or"
   ]
  },
  {
   "cell_type": "code",
   "execution_count": 21,
   "metadata": {},
   "outputs": [
    {
     "name": "stdout",
     "output_type": "stream",
     "text": [
      "¡Emergencia se acerca un esteroide a la tierra!\n"
     ]
    }
   ],
   "source": [
    "aste_velo = 25\n",
    "aste_tam = 40\n",
    "if aste_velo > 25 and aste_tam > 25:\n",
    "    print(\"¡Emergencia se acerca un esteroide a la tierra!\")\n",
    "elif aste_velo >= 20:\n",
    "    print(\"¡Emergencia se acerca un esteroide a la tierra!\")\n",
    "elif aste_tam < 25:\n",
    "    print(\"Estado: normal\")\n",
    "else:\n",
    "    print(\"Estado: normal\")"
   ]
  }
 ],
 "metadata": {
  "kernelspec": {
   "display_name": "Python 3.9.7 64-bit",
   "name": "python397jvsc74a57bd07812ea015bdcee6f23a998adcdd2ef97c151c0c241b7b7070987d9313e41299d"
  },
  "language_info": {
   "codemirror_mode": {
    "name": "ipython",
    "version": 3
   },
   "file_extension": ".py",
   "mimetype": "text/x-python",
   "name": "python",
   "nbconvert_exporter": "python",
   "pygments_lexer": "ipython3",
   "version": "3.9.7"
  },
  "metadata": {
   "interpreter": {
    "hash": "7812ea015bdcee6f23a998adcdd2ef97c151c0c241b7b7070987d9313e41299d"
   }
  },
  "orig_nbformat": 2
 },
 "nbformat": 4,
 "nbformat_minor": 2
}